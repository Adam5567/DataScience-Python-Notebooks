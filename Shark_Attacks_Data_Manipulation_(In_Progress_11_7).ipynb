{
  "nbformat": 4,
  "nbformat_minor": 0,
  "metadata": {
    "colab": {
      "provenance": [],
      "collapsed_sections": [],
      "authorship_tag": "ABX9TyN+MRJV4IMUfgmDTmY/5Kvg",
      "include_colab_link": true
    },
    "kernelspec": {
      "name": "python3",
      "display_name": "Python 3"
    },
    "language_info": {
      "name": "python"
    }
  },
  "cells": [
    {
      "cell_type": "markdown",
      "metadata": {
        "id": "view-in-github",
        "colab_type": "text"
      },
      "source": [
        "<a href=\"https://colab.research.google.com/github/Adam5567/DataScience-Python-Notebooks/blob/master/Shark_Attacks_Data_Manipulation_(In_Progress_11_7).ipynb\" target=\"_parent\"><img src=\"https://colab.research.google.com/assets/colab-badge.svg\" alt=\"Open In Colab\"/></a>"
      ]
    },
    {
      "cell_type": "markdown",
      "source": [
        "#This notebook takes a messy dataset on shark attacks and prepares it for ideal ML techniques."
      ],
      "metadata": {
        "id": "1_Kn3bLth-Wp"
      }
    },
    {
      "cell_type": "code",
      "source": [
        "import numpy as np\n",
        "import pandas as pd"
      ],
      "metadata": {
        "id": "k3MRfsfFiHtO"
      },
      "execution_count": null,
      "outputs": []
    },
    {
      "cell_type": "code",
      "source": [
        "from google.colab import files\n",
        "uploaded = files.upload()"
      ],
      "metadata": {
        "colab": {
          "base_uri": "https://localhost:8080/",
          "height": 74
        },
        "id": "GzT0Un29iLUc",
        "outputId": "f925ca6e-739b-4b78-910f-826ad3147e02"
      },
      "execution_count": null,
      "outputs": [
        {
          "output_type": "display_data",
          "data": {
            "text/plain": [
              "<IPython.core.display.HTML object>"
            ],
            "text/html": [
              "\n",
              "     <input type=\"file\" id=\"files-addba11b-e607-40e4-abf1-0d1ad51fbb3c\" name=\"files[]\" multiple disabled\n",
              "        style=\"border:none\" />\n",
              "     <output id=\"result-addba11b-e607-40e4-abf1-0d1ad51fbb3c\">\n",
              "      Upload widget is only available when the cell has been executed in the\n",
              "      current browser session. Please rerun this cell to enable.\n",
              "      </output>\n",
              "      <script>// Copyright 2017 Google LLC\n",
              "//\n",
              "// Licensed under the Apache License, Version 2.0 (the \"License\");\n",
              "// you may not use this file except in compliance with the License.\n",
              "// You may obtain a copy of the License at\n",
              "//\n",
              "//      http://www.apache.org/licenses/LICENSE-2.0\n",
              "//\n",
              "// Unless required by applicable law or agreed to in writing, software\n",
              "// distributed under the License is distributed on an \"AS IS\" BASIS,\n",
              "// WITHOUT WARRANTIES OR CONDITIONS OF ANY KIND, either express or implied.\n",
              "// See the License for the specific language governing permissions and\n",
              "// limitations under the License.\n",
              "\n",
              "/**\n",
              " * @fileoverview Helpers for google.colab Python module.\n",
              " */\n",
              "(function(scope) {\n",
              "function span(text, styleAttributes = {}) {\n",
              "  const element = document.createElement('span');\n",
              "  element.textContent = text;\n",
              "  for (const key of Object.keys(styleAttributes)) {\n",
              "    element.style[key] = styleAttributes[key];\n",
              "  }\n",
              "  return element;\n",
              "}\n",
              "\n",
              "// Max number of bytes which will be uploaded at a time.\n",
              "const MAX_PAYLOAD_SIZE = 100 * 1024;\n",
              "\n",
              "function _uploadFiles(inputId, outputId) {\n",
              "  const steps = uploadFilesStep(inputId, outputId);\n",
              "  const outputElement = document.getElementById(outputId);\n",
              "  // Cache steps on the outputElement to make it available for the next call\n",
              "  // to uploadFilesContinue from Python.\n",
              "  outputElement.steps = steps;\n",
              "\n",
              "  return _uploadFilesContinue(outputId);\n",
              "}\n",
              "\n",
              "// This is roughly an async generator (not supported in the browser yet),\n",
              "// where there are multiple asynchronous steps and the Python side is going\n",
              "// to poll for completion of each step.\n",
              "// This uses a Promise to block the python side on completion of each step,\n",
              "// then passes the result of the previous step as the input to the next step.\n",
              "function _uploadFilesContinue(outputId) {\n",
              "  const outputElement = document.getElementById(outputId);\n",
              "  const steps = outputElement.steps;\n",
              "\n",
              "  const next = steps.next(outputElement.lastPromiseValue);\n",
              "  return Promise.resolve(next.value.promise).then((value) => {\n",
              "    // Cache the last promise value to make it available to the next\n",
              "    // step of the generator.\n",
              "    outputElement.lastPromiseValue = value;\n",
              "    return next.value.response;\n",
              "  });\n",
              "}\n",
              "\n",
              "/**\n",
              " * Generator function which is called between each async step of the upload\n",
              " * process.\n",
              " * @param {string} inputId Element ID of the input file picker element.\n",
              " * @param {string} outputId Element ID of the output display.\n",
              " * @return {!Iterable<!Object>} Iterable of next steps.\n",
              " */\n",
              "function* uploadFilesStep(inputId, outputId) {\n",
              "  const inputElement = document.getElementById(inputId);\n",
              "  inputElement.disabled = false;\n",
              "\n",
              "  const outputElement = document.getElementById(outputId);\n",
              "  outputElement.innerHTML = '';\n",
              "\n",
              "  const pickedPromise = new Promise((resolve) => {\n",
              "    inputElement.addEventListener('change', (e) => {\n",
              "      resolve(e.target.files);\n",
              "    });\n",
              "  });\n",
              "\n",
              "  const cancel = document.createElement('button');\n",
              "  inputElement.parentElement.appendChild(cancel);\n",
              "  cancel.textContent = 'Cancel upload';\n",
              "  const cancelPromise = new Promise((resolve) => {\n",
              "    cancel.onclick = () => {\n",
              "      resolve(null);\n",
              "    };\n",
              "  });\n",
              "\n",
              "  // Wait for the user to pick the files.\n",
              "  const files = yield {\n",
              "    promise: Promise.race([pickedPromise, cancelPromise]),\n",
              "    response: {\n",
              "      action: 'starting',\n",
              "    }\n",
              "  };\n",
              "\n",
              "  cancel.remove();\n",
              "\n",
              "  // Disable the input element since further picks are not allowed.\n",
              "  inputElement.disabled = true;\n",
              "\n",
              "  if (!files) {\n",
              "    return {\n",
              "      response: {\n",
              "        action: 'complete',\n",
              "      }\n",
              "    };\n",
              "  }\n",
              "\n",
              "  for (const file of files) {\n",
              "    const li = document.createElement('li');\n",
              "    li.append(span(file.name, {fontWeight: 'bold'}));\n",
              "    li.append(span(\n",
              "        `(${file.type || 'n/a'}) - ${file.size} bytes, ` +\n",
              "        `last modified: ${\n",
              "            file.lastModifiedDate ? file.lastModifiedDate.toLocaleDateString() :\n",
              "                                    'n/a'} - `));\n",
              "    const percent = span('0% done');\n",
              "    li.appendChild(percent);\n",
              "\n",
              "    outputElement.appendChild(li);\n",
              "\n",
              "    const fileDataPromise = new Promise((resolve) => {\n",
              "      const reader = new FileReader();\n",
              "      reader.onload = (e) => {\n",
              "        resolve(e.target.result);\n",
              "      };\n",
              "      reader.readAsArrayBuffer(file);\n",
              "    });\n",
              "    // Wait for the data to be ready.\n",
              "    let fileData = yield {\n",
              "      promise: fileDataPromise,\n",
              "      response: {\n",
              "        action: 'continue',\n",
              "      }\n",
              "    };\n",
              "\n",
              "    // Use a chunked sending to avoid message size limits. See b/62115660.\n",
              "    let position = 0;\n",
              "    do {\n",
              "      const length = Math.min(fileData.byteLength - position, MAX_PAYLOAD_SIZE);\n",
              "      const chunk = new Uint8Array(fileData, position, length);\n",
              "      position += length;\n",
              "\n",
              "      const base64 = btoa(String.fromCharCode.apply(null, chunk));\n",
              "      yield {\n",
              "        response: {\n",
              "          action: 'append',\n",
              "          file: file.name,\n",
              "          data: base64,\n",
              "        },\n",
              "      };\n",
              "\n",
              "      let percentDone = fileData.byteLength === 0 ?\n",
              "          100 :\n",
              "          Math.round((position / fileData.byteLength) * 100);\n",
              "      percent.textContent = `${percentDone}% done`;\n",
              "\n",
              "    } while (position < fileData.byteLength);\n",
              "  }\n",
              "\n",
              "  // All done.\n",
              "  yield {\n",
              "    response: {\n",
              "      action: 'complete',\n",
              "    }\n",
              "  };\n",
              "}\n",
              "\n",
              "scope.google = scope.google || {};\n",
              "scope.google.colab = scope.google.colab || {};\n",
              "scope.google.colab._files = {\n",
              "  _uploadFiles,\n",
              "  _uploadFilesContinue,\n",
              "};\n",
              "})(self);\n",
              "</script> "
            ]
          },
          "metadata": {}
        },
        {
          "output_type": "stream",
          "name": "stdout",
          "text": [
            "Saving attacks.csv to attacks.csv\n"
          ]
        }
      ]
    },
    {
      "cell_type": "code",
      "source": [
        "data = pd.read_csv('attacks.csv', encoding='latin-1')"
      ],
      "metadata": {
        "id": "8stwUuiuikxF"
      },
      "execution_count": null,
      "outputs": []
    },
    {
      "cell_type": "code",
      "source": [
        "#Our first look at the data\n",
        "#We can tell that some work needs to be done before the set is optimized for anaylsis\n",
        "data.head()"
      ],
      "metadata": {
        "colab": {
          "base_uri": "https://localhost:8080/",
          "height": 629
        },
        "id": "R5CXzJ7Li-l0",
        "outputId": "ea89a95a-c108-4a09-c11a-beef22de37ce"
      },
      "execution_count": null,
      "outputs": [
        {
          "output_type": "execute_result",
          "data": {
            "text/plain": [
              "    Case Number                  Date    Year        Type         Country  \\\n",
              "0    2017.06.11            2017-06-11  2017.0  Unprovoked       AUSTRALIA   \n",
              "1  2017.06.10.b            2017-06-10  2017.0  Unprovoked       AUSTRALIA   \n",
              "2  2017.06.10.a            2017-06-10  2017.0  Unprovoked             USA   \n",
              "3  2017.06.07.R  Reported 07-Jun-2017  2017.0  Unprovoked  UNITED KINGDOM   \n",
              "4    2017.06.04            2017-06-04  2017.0  Unprovoked             USA   \n",
              "\n",
              "                Area                                         Location  \\\n",
              "0  Western Australia                         Point Casuarina, Bunbury   \n",
              "1           Victoria                    Flinders, Mornington Penisula   \n",
              "2            Florida                      Ponce Inlet, Volusia County   \n",
              "3        South Devon                                    Bantham Beach   \n",
              "4            Florida  Middle Sambo Reef off Boca Chica, Monroe County   \n",
              "\n",
              "        Activity            Name Sex   ... Fatal (Y/N)   Time  \\\n",
              "0  Body boarding       Paul Goff    M  ...           N  08h30   \n",
              "1        Surfing          female    F  ...           N  15h45   \n",
              "2        Surfing     Bryan Brock    M  ...           N  10h00   \n",
              "3       Surfing     Rich Thomson    M  ...           N    NaN   \n",
              "4   Spearfishing  Parker Simpson    M  ...           N    NaN   \n",
              "\n",
              "                            Species                  Investigator or Source  \\\n",
              "0                   White shark, 4 m                    WA Today, 6/11/2017   \n",
              "1                       7 gill shark                                    NaN   \n",
              "2                                NaN  Daytona Beach News-Journal, 6/10/2017   \n",
              "3  3m shark, probably a smooth hound                         C. Moore, GSAF   \n",
              "4                           8' shark                    Nine News, 6/7/2017   \n",
              "\n",
              "                         pdf  \\\n",
              "0        2017.06.11-Goff.pdf   \n",
              "1  2017.06.10.b-Flinders.pdf   \n",
              "2     2017.06.10.a-Brock.pdf   \n",
              "3   2017.06.07.R-Thomson.pdf   \n",
              "4     2017.06.04-Simpson.pdf   \n",
              "\n",
              "                                        href formula  \\\n",
              "0  http://sharkattackfile.net/spreadsheets/pdf_di...   \n",
              "1  http://sharkattackfile.net/spreadsheets/pdf_di...   \n",
              "2  http://sharkattackfile.net/spreadsheets/pdf_di...   \n",
              "3  http://sharkattackfile.net/spreadsheets/pdf_di...   \n",
              "4  http://sharkattackfile.net/spreadsheets/pdf_di...   \n",
              "\n",
              "                                                href Case Number.1  \\\n",
              "0  http://sharkattackfile.net/spreadsheets/pdf_di...    2017.06.11   \n",
              "1  http://sharkattackfile.net/spreadsheets/pdf_di...  2017.06.10.b   \n",
              "2  http://sharkattackfile.net/spreadsheets/pdf_di...  2017.06.10.a   \n",
              "3  http://sharkattackfile.net/spreadsheets/pdf_di...  2017.06.07.R   \n",
              "4  http://sharkattackfile.net/spreadsheets/pdf_di...    2017.06.04   \n",
              "\n",
              "  Case Number.2 original order  \n",
              "0    2017.06.11         6095.0  \n",
              "1  2017.06.10.b         6094.0  \n",
              "2  2017.06.10.a         6093.0  \n",
              "3  2017.06.07.R         6092.0  \n",
              "4    2017.06.04         6091.0  \n",
              "\n",
              "[5 rows x 22 columns]"
            ],
            "text/html": [
              "\n",
              "  <div id=\"df-459a6e0a-bae5-485f-a1c6-b9c6e27d3458\">\n",
              "    <div class=\"colab-df-container\">\n",
              "      <div>\n",
              "<style scoped>\n",
              "    .dataframe tbody tr th:only-of-type {\n",
              "        vertical-align: middle;\n",
              "    }\n",
              "\n",
              "    .dataframe tbody tr th {\n",
              "        vertical-align: top;\n",
              "    }\n",
              "\n",
              "    .dataframe thead th {\n",
              "        text-align: right;\n",
              "    }\n",
              "</style>\n",
              "<table border=\"1\" class=\"dataframe\">\n",
              "  <thead>\n",
              "    <tr style=\"text-align: right;\">\n",
              "      <th></th>\n",
              "      <th>Case Number</th>\n",
              "      <th>Date</th>\n",
              "      <th>Year</th>\n",
              "      <th>Type</th>\n",
              "      <th>Country</th>\n",
              "      <th>Area</th>\n",
              "      <th>Location</th>\n",
              "      <th>Activity</th>\n",
              "      <th>Name</th>\n",
              "      <th>Sex</th>\n",
              "      <th>...</th>\n",
              "      <th>Fatal (Y/N)</th>\n",
              "      <th>Time</th>\n",
              "      <th>Species</th>\n",
              "      <th>Investigator or Source</th>\n",
              "      <th>pdf</th>\n",
              "      <th>href formula</th>\n",
              "      <th>href</th>\n",
              "      <th>Case Number.1</th>\n",
              "      <th>Case Number.2</th>\n",
              "      <th>original order</th>\n",
              "    </tr>\n",
              "  </thead>\n",
              "  <tbody>\n",
              "    <tr>\n",
              "      <th>0</th>\n",
              "      <td>2017.06.11</td>\n",
              "      <td>2017-06-11</td>\n",
              "      <td>2017.0</td>\n",
              "      <td>Unprovoked</td>\n",
              "      <td>AUSTRALIA</td>\n",
              "      <td>Western Australia</td>\n",
              "      <td>Point Casuarina, Bunbury</td>\n",
              "      <td>Body boarding</td>\n",
              "      <td>Paul Goff</td>\n",
              "      <td>M</td>\n",
              "      <td>...</td>\n",
              "      <td>N</td>\n",
              "      <td>08h30</td>\n",
              "      <td>White shark, 4 m</td>\n",
              "      <td>WA Today, 6/11/2017</td>\n",
              "      <td>2017.06.11-Goff.pdf</td>\n",
              "      <td>http://sharkattackfile.net/spreadsheets/pdf_di...</td>\n",
              "      <td>http://sharkattackfile.net/spreadsheets/pdf_di...</td>\n",
              "      <td>2017.06.11</td>\n",
              "      <td>2017.06.11</td>\n",
              "      <td>6095.0</td>\n",
              "    </tr>\n",
              "    <tr>\n",
              "      <th>1</th>\n",
              "      <td>2017.06.10.b</td>\n",
              "      <td>2017-06-10</td>\n",
              "      <td>2017.0</td>\n",
              "      <td>Unprovoked</td>\n",
              "      <td>AUSTRALIA</td>\n",
              "      <td>Victoria</td>\n",
              "      <td>Flinders, Mornington Penisula</td>\n",
              "      <td>Surfing</td>\n",
              "      <td>female</td>\n",
              "      <td>F</td>\n",
              "      <td>...</td>\n",
              "      <td>N</td>\n",
              "      <td>15h45</td>\n",
              "      <td>7 gill shark</td>\n",
              "      <td>NaN</td>\n",
              "      <td>2017.06.10.b-Flinders.pdf</td>\n",
              "      <td>http://sharkattackfile.net/spreadsheets/pdf_di...</td>\n",
              "      <td>http://sharkattackfile.net/spreadsheets/pdf_di...</td>\n",
              "      <td>2017.06.10.b</td>\n",
              "      <td>2017.06.10.b</td>\n",
              "      <td>6094.0</td>\n",
              "    </tr>\n",
              "    <tr>\n",
              "      <th>2</th>\n",
              "      <td>2017.06.10.a</td>\n",
              "      <td>2017-06-10</td>\n",
              "      <td>2017.0</td>\n",
              "      <td>Unprovoked</td>\n",
              "      <td>USA</td>\n",
              "      <td>Florida</td>\n",
              "      <td>Ponce Inlet, Volusia County</td>\n",
              "      <td>Surfing</td>\n",
              "      <td>Bryan Brock</td>\n",
              "      <td>M</td>\n",
              "      <td>...</td>\n",
              "      <td>N</td>\n",
              "      <td>10h00</td>\n",
              "      <td>NaN</td>\n",
              "      <td>Daytona Beach News-Journal, 6/10/2017</td>\n",
              "      <td>2017.06.10.a-Brock.pdf</td>\n",
              "      <td>http://sharkattackfile.net/spreadsheets/pdf_di...</td>\n",
              "      <td>http://sharkattackfile.net/spreadsheets/pdf_di...</td>\n",
              "      <td>2017.06.10.a</td>\n",
              "      <td>2017.06.10.a</td>\n",
              "      <td>6093.0</td>\n",
              "    </tr>\n",
              "    <tr>\n",
              "      <th>3</th>\n",
              "      <td>2017.06.07.R</td>\n",
              "      <td>Reported 07-Jun-2017</td>\n",
              "      <td>2017.0</td>\n",
              "      <td>Unprovoked</td>\n",
              "      <td>UNITED KINGDOM</td>\n",
              "      <td>South Devon</td>\n",
              "      <td>Bantham Beach</td>\n",
              "      <td>Surfing</td>\n",
              "      <td>Rich Thomson</td>\n",
              "      <td>M</td>\n",
              "      <td>...</td>\n",
              "      <td>N</td>\n",
              "      <td>NaN</td>\n",
              "      <td>3m shark, probably a smooth hound</td>\n",
              "      <td>C. Moore, GSAF</td>\n",
              "      <td>2017.06.07.R-Thomson.pdf</td>\n",
              "      <td>http://sharkattackfile.net/spreadsheets/pdf_di...</td>\n",
              "      <td>http://sharkattackfile.net/spreadsheets/pdf_di...</td>\n",
              "      <td>2017.06.07.R</td>\n",
              "      <td>2017.06.07.R</td>\n",
              "      <td>6092.0</td>\n",
              "    </tr>\n",
              "    <tr>\n",
              "      <th>4</th>\n",
              "      <td>2017.06.04</td>\n",
              "      <td>2017-06-04</td>\n",
              "      <td>2017.0</td>\n",
              "      <td>Unprovoked</td>\n",
              "      <td>USA</td>\n",
              "      <td>Florida</td>\n",
              "      <td>Middle Sambo Reef off Boca Chica, Monroe County</td>\n",
              "      <td>Spearfishing</td>\n",
              "      <td>Parker Simpson</td>\n",
              "      <td>M</td>\n",
              "      <td>...</td>\n",
              "      <td>N</td>\n",
              "      <td>NaN</td>\n",
              "      <td>8' shark</td>\n",
              "      <td>Nine News, 6/7/2017</td>\n",
              "      <td>2017.06.04-Simpson.pdf</td>\n",
              "      <td>http://sharkattackfile.net/spreadsheets/pdf_di...</td>\n",
              "      <td>http://sharkattackfile.net/spreadsheets/pdf_di...</td>\n",
              "      <td>2017.06.04</td>\n",
              "      <td>2017.06.04</td>\n",
              "      <td>6091.0</td>\n",
              "    </tr>\n",
              "  </tbody>\n",
              "</table>\n",
              "<p>5 rows × 22 columns</p>\n",
              "</div>\n",
              "      <button class=\"colab-df-convert\" onclick=\"convertToInteractive('df-459a6e0a-bae5-485f-a1c6-b9c6e27d3458')\"\n",
              "              title=\"Convert this dataframe to an interactive table.\"\n",
              "              style=\"display:none;\">\n",
              "        \n",
              "  <svg xmlns=\"http://www.w3.org/2000/svg\" height=\"24px\"viewBox=\"0 0 24 24\"\n",
              "       width=\"24px\">\n",
              "    <path d=\"M0 0h24v24H0V0z\" fill=\"none\"/>\n",
              "    <path d=\"M18.56 5.44l.94 2.06.94-2.06 2.06-.94-2.06-.94-.94-2.06-.94 2.06-2.06.94zm-11 1L8.5 8.5l.94-2.06 2.06-.94-2.06-.94L8.5 2.5l-.94 2.06-2.06.94zm10 10l.94 2.06.94-2.06 2.06-.94-2.06-.94-.94-2.06-.94 2.06-2.06.94z\"/><path d=\"M17.41 7.96l-1.37-1.37c-.4-.4-.92-.59-1.43-.59-.52 0-1.04.2-1.43.59L10.3 9.45l-7.72 7.72c-.78.78-.78 2.05 0 2.83L4 21.41c.39.39.9.59 1.41.59.51 0 1.02-.2 1.41-.59l7.78-7.78 2.81-2.81c.8-.78.8-2.07 0-2.86zM5.41 20L4 18.59l7.72-7.72 1.47 1.35L5.41 20z\"/>\n",
              "  </svg>\n",
              "      </button>\n",
              "      \n",
              "  <style>\n",
              "    .colab-df-container {\n",
              "      display:flex;\n",
              "      flex-wrap:wrap;\n",
              "      gap: 12px;\n",
              "    }\n",
              "\n",
              "    .colab-df-convert {\n",
              "      background-color: #E8F0FE;\n",
              "      border: none;\n",
              "      border-radius: 50%;\n",
              "      cursor: pointer;\n",
              "      display: none;\n",
              "      fill: #1967D2;\n",
              "      height: 32px;\n",
              "      padding: 0 0 0 0;\n",
              "      width: 32px;\n",
              "    }\n",
              "\n",
              "    .colab-df-convert:hover {\n",
              "      background-color: #E2EBFA;\n",
              "      box-shadow: 0px 1px 2px rgba(60, 64, 67, 0.3), 0px 1px 3px 1px rgba(60, 64, 67, 0.15);\n",
              "      fill: #174EA6;\n",
              "    }\n",
              "\n",
              "    [theme=dark] .colab-df-convert {\n",
              "      background-color: #3B4455;\n",
              "      fill: #D2E3FC;\n",
              "    }\n",
              "\n",
              "    [theme=dark] .colab-df-convert:hover {\n",
              "      background-color: #434B5C;\n",
              "      box-shadow: 0px 1px 3px 1px rgba(0, 0, 0, 0.15);\n",
              "      filter: drop-shadow(0px 1px 2px rgba(0, 0, 0, 0.3));\n",
              "      fill: #FFFFFF;\n",
              "    }\n",
              "  </style>\n",
              "\n",
              "      <script>\n",
              "        const buttonEl =\n",
              "          document.querySelector('#df-459a6e0a-bae5-485f-a1c6-b9c6e27d3458 button.colab-df-convert');\n",
              "        buttonEl.style.display =\n",
              "          google.colab.kernel.accessAllowed ? 'block' : 'none';\n",
              "\n",
              "        async function convertToInteractive(key) {\n",
              "          const element = document.querySelector('#df-459a6e0a-bae5-485f-a1c6-b9c6e27d3458');\n",
              "          const dataTable =\n",
              "            await google.colab.kernel.invokeFunction('convertToInteractive',\n",
              "                                                     [key], {});\n",
              "          if (!dataTable) return;\n",
              "\n",
              "          const docLinkHtml = 'Like what you see? Visit the ' +\n",
              "            '<a target=\"_blank\" href=https://colab.research.google.com/notebooks/data_table.ipynb>data table notebook</a>'\n",
              "            + ' to learn more about interactive tables.';\n",
              "          element.innerHTML = '';\n",
              "          dataTable['output_type'] = 'display_data';\n",
              "          await google.colab.output.renderOutput(dataTable, element);\n",
              "          const docLink = document.createElement('div');\n",
              "          docLink.innerHTML = docLinkHtml;\n",
              "          element.appendChild(docLink);\n",
              "        }\n",
              "      </script>\n",
              "    </div>\n",
              "  </div>\n",
              "  "
            ]
          },
          "metadata": {},
          "execution_count": 4
        }
      ]
    },
    {
      "cell_type": "code",
      "source": [
        "data.info()"
      ],
      "metadata": {
        "colab": {
          "base_uri": "https://localhost:8080/"
        },
        "id": "Ecg9CqEMjQHj",
        "outputId": "1c639ee4-9575-4256-8b47-a4169e74da86"
      },
      "execution_count": null,
      "outputs": [
        {
          "output_type": "stream",
          "name": "stdout",
          "text": [
            "<class 'pandas.core.frame.DataFrame'>\n",
            "RangeIndex: 25614 entries, 0 to 25613\n",
            "Data columns (total 22 columns):\n",
            " #   Column                  Non-Null Count  Dtype  \n",
            "---  ------                  --------------  -----  \n",
            " 0   Case Number             6095 non-null   object \n",
            " 1   Date                    6094 non-null   object \n",
            " 2   Year                    6092 non-null   float64\n",
            " 3   Type                    6090 non-null   object \n",
            " 4   Country                 6048 non-null   object \n",
            " 5   Area                    5682 non-null   object \n",
            " 6   Location                5583 non-null   object \n",
            " 7   Activity                5559 non-null   object \n",
            " 8   Name                    5888 non-null   object \n",
            " 9   Sex                     5517 non-null   object \n",
            " 10  Age                     3374 non-null   object \n",
            " 11  Injury                  6066 non-null   object \n",
            " 12  Fatal (Y/N)             6064 non-null   object \n",
            " 13  Time                    2848 non-null   object \n",
            " 14  Species                 3100 non-null   object \n",
            " 15  Investigator or Source  6077 non-null   object \n",
            " 16  pdf                     6094 non-null   object \n",
            " 17  href formula            6093 non-null   object \n",
            " 18  href                    6093 non-null   object \n",
            " 19  Case Number.1           6094 non-null   object \n",
            " 20  Case Number.2           6094 non-null   object \n",
            " 21  original order          6094 non-null   float64\n",
            "dtypes: float64(2), object(20)\n",
            "memory usage: 4.3+ MB\n"
          ]
        }
      ]
    },
    {
      "cell_type": "code",
      "source": [
        "#This is a large amount if null values!\n",
        "data.isnull().sum()"
      ],
      "metadata": {
        "colab": {
          "base_uri": "https://localhost:8080/"
        },
        "id": "PE4_T2MMjW5M",
        "outputId": "125693e3-2382-4186-e3a0-bc429572155f"
      },
      "execution_count": null,
      "outputs": [
        {
          "output_type": "execute_result",
          "data": {
            "text/plain": [
              "Case Number               19519\n",
              "Date                      19520\n",
              "Year                      19522\n",
              "Type                      19524\n",
              "Country                   19566\n",
              "Area                      19932\n",
              "Location                  20031\n",
              "Activity                  20055\n",
              "Name                      19726\n",
              "Sex                       20097\n",
              "Age                       22240\n",
              "Injury                    19548\n",
              "Fatal (Y/N)               19550\n",
              "Time                      22766\n",
              "Species                   22514\n",
              "Investigator or Source    19537\n",
              "pdf                       19520\n",
              "href formula              19521\n",
              "href                      19521\n",
              "Case Number.1             19520\n",
              "Case Number.2             19520\n",
              "original order            19520\n",
              "dtype: int64"
            ]
          },
          "metadata": {},
          "execution_count": 6
        }
      ]
    },
    {
      "cell_type": "code",
      "source": [
        "data.nunique()"
      ],
      "metadata": {
        "colab": {
          "base_uri": "https://localhost:8080/"
        },
        "id": "JwfPoICtjiRD",
        "outputId": "1d238823-d1cf-4066-f151-3258bc2c7ec5"
      },
      "execution_count": null,
      "outputs": [
        {
          "output_type": "execute_result",
          "data": {
            "text/plain": [
              "Case Number               6079\n",
              "Date                      5197\n",
              "Year                       240\n",
              "Type                         6\n",
              "Country                    204\n",
              "Area                       799\n",
              "Location                  3984\n",
              "Activity                  1503\n",
              "Name                      5086\n",
              "Sex                          6\n",
              "Age                        151\n",
              "Injury                    3645\n",
              "Fatal (Y/N)                  9\n",
              "Time                       360\n",
              "Species                   1555\n",
              "Investigator or Source    4831\n",
              "pdf                       6083\n",
              "href formula              6082\n",
              "href                      6076\n",
              "Case Number.1             6077\n",
              "Case Number.2             6078\n",
              "original order            6093\n",
              "dtype: int64"
            ]
          },
          "metadata": {},
          "execution_count": 7
        }
      ]
    },
    {
      "cell_type": "code",
      "source": [
        "#This shows the range of possible null values (and other inputs)\n",
        "#A lot of data cleaning is needed\n",
        "data['Fatal (Y/N)'].unique()"
      ],
      "metadata": {
        "colab": {
          "base_uri": "https://localhost:8080/"
        },
        "id": "aqsjhK4vkHql",
        "outputId": "be67f477-6054-49b4-8f41-ce0a76b2dd80"
      },
      "execution_count": null,
      "outputs": [
        {
          "output_type": "execute_result",
          "data": {
            "text/plain": [
              "array(['N', 'Y', nan, 'UNKNOWN', '2017', ' N', 'F', 'N ', '#VALUE!', 'n'],\n",
              "      dtype=object)"
            ]
          },
          "metadata": {},
          "execution_count": 8
        }
      ]
    },
    {
      "cell_type": "markdown",
      "source": [
        "#An ideal first step is to transform the entire dataframe into Snake Case. This will help others to easily read and make sense of the data. However, we can first drop a few columns completely and save us some time and effort."
      ],
      "metadata": {
        "id": "2UtryTflkbuq"
      }
    },
    {
      "cell_type": "code",
      "source": [
        "#The case number and year columns are not needed\n",
        "data.drop(['Case Number', 'Year'], axis =1, inplace= True)"
      ],
      "metadata": {
        "id": "3vVNCZUekl4r"
      },
      "execution_count": null,
      "outputs": []
    },
    {
      "cell_type": "code",
      "source": [
        "#Some other columns are nice to have but are not pertient for our purposes here.\n",
        "data.drop(['Name','Investigator or Source','pdf', 'href formula', 'href',\n",
        "       'Case Number.1', 'Case Number.2', 'original order'], axis = 1, inplace = True)"
      ],
      "metadata": {
        "id": "awFMef5qzcUR"
      },
      "execution_count": null,
      "outputs": []
    },
    {
      "cell_type": "code",
      "source": [
        "#remaining columns\n",
        "#you can see that some columns (such as Sex and Species) have spaces after their string\n",
        "data.columns"
      ],
      "metadata": {
        "colab": {
          "base_uri": "https://localhost:8080/"
        },
        "id": "hw5-p5TOzr41",
        "outputId": "2945abd7-bbbe-403e-d498-0a463c75af5b"
      },
      "execution_count": null,
      "outputs": [
        {
          "output_type": "execute_result",
          "data": {
            "text/plain": [
              "Index(['Date', 'Type', 'Country', 'Area', 'Location', 'Activity', 'Sex ',\n",
              "       'Age', 'Injury', 'Fatal (Y/N)', 'Time', 'Species '],\n",
              "      dtype='object')"
            ]
          },
          "metadata": {},
          "execution_count": 11
        }
      ]
    },
    {
      "cell_type": "code",
      "source": [
        "#Converting these columns to snake case\n",
        "#We also strip the empty space after some of the columns\n",
        "data.rename(columns=lambda col: col.replace(' ', '_').lower().strip('_'), inplace=True)"
      ],
      "metadata": {
        "id": "txfCvT_tzvO1"
      },
      "execution_count": null,
      "outputs": []
    },
    {
      "cell_type": "code",
      "source": [
        "data.head()"
      ],
      "metadata": {
        "colab": {
          "base_uri": "https://localhost:8080/",
          "height": 372
        },
        "id": "AOoMjNdP0Q_J",
        "outputId": "bce0cf94-36f2-428c-f8f4-815b83b8fdb2"
      },
      "execution_count": null,
      "outputs": [
        {
          "output_type": "execute_result",
          "data": {
            "text/plain": [
              "                   date        type         country               area  \\\n",
              "0            2017-06-11  Unprovoked       AUSTRALIA  Western Australia   \n",
              "1            2017-06-10  Unprovoked       AUSTRALIA           Victoria   \n",
              "2            2017-06-10  Unprovoked             USA            Florida   \n",
              "3  Reported 07-Jun-2017  Unprovoked  UNITED KINGDOM        South Devon   \n",
              "4            2017-06-04  Unprovoked             USA            Florida   \n",
              "\n",
              "                                          location       activity sex  age  \\\n",
              "0                         Point Casuarina, Bunbury  Body boarding   M   48   \n",
              "1                    Flinders, Mornington Penisula        Surfing   F  NaN   \n",
              "2                      Ponce Inlet, Volusia County        Surfing   M   19   \n",
              "3                                    Bantham Beach       Surfing    M   30   \n",
              "4  Middle Sambo Reef off Boca Chica, Monroe County   Spearfishing   M  NaN   \n",
              "\n",
              "                                              injury fatal_(y/n)   time  \\\n",
              "0                            No injury, board bitten           N  08h30   \n",
              "1                        No injury, knocke off board           N  15h45   \n",
              "2                            Laceration to left foot           N  10h00   \n",
              "3  Bruise to leg, cuts to hand sustained when he ...           N    NaN   \n",
              "4                                 Laceration to shin           N    NaN   \n",
              "\n",
              "                             species  \n",
              "0                   White shark, 4 m  \n",
              "1                       7 gill shark  \n",
              "2                                NaN  \n",
              "3  3m shark, probably a smooth hound  \n",
              "4                           8' shark  "
            ],
            "text/html": [
              "\n",
              "  <div id=\"df-0c216b7d-b455-4640-acb8-cfd8f3d71f47\">\n",
              "    <div class=\"colab-df-container\">\n",
              "      <div>\n",
              "<style scoped>\n",
              "    .dataframe tbody tr th:only-of-type {\n",
              "        vertical-align: middle;\n",
              "    }\n",
              "\n",
              "    .dataframe tbody tr th {\n",
              "        vertical-align: top;\n",
              "    }\n",
              "\n",
              "    .dataframe thead th {\n",
              "        text-align: right;\n",
              "    }\n",
              "</style>\n",
              "<table border=\"1\" class=\"dataframe\">\n",
              "  <thead>\n",
              "    <tr style=\"text-align: right;\">\n",
              "      <th></th>\n",
              "      <th>date</th>\n",
              "      <th>type</th>\n",
              "      <th>country</th>\n",
              "      <th>area</th>\n",
              "      <th>location</th>\n",
              "      <th>activity</th>\n",
              "      <th>sex</th>\n",
              "      <th>age</th>\n",
              "      <th>injury</th>\n",
              "      <th>fatal_(y/n)</th>\n",
              "      <th>time</th>\n",
              "      <th>species</th>\n",
              "    </tr>\n",
              "  </thead>\n",
              "  <tbody>\n",
              "    <tr>\n",
              "      <th>0</th>\n",
              "      <td>2017-06-11</td>\n",
              "      <td>Unprovoked</td>\n",
              "      <td>AUSTRALIA</td>\n",
              "      <td>Western Australia</td>\n",
              "      <td>Point Casuarina, Bunbury</td>\n",
              "      <td>Body boarding</td>\n",
              "      <td>M</td>\n",
              "      <td>48</td>\n",
              "      <td>No injury, board bitten</td>\n",
              "      <td>N</td>\n",
              "      <td>08h30</td>\n",
              "      <td>White shark, 4 m</td>\n",
              "    </tr>\n",
              "    <tr>\n",
              "      <th>1</th>\n",
              "      <td>2017-06-10</td>\n",
              "      <td>Unprovoked</td>\n",
              "      <td>AUSTRALIA</td>\n",
              "      <td>Victoria</td>\n",
              "      <td>Flinders, Mornington Penisula</td>\n",
              "      <td>Surfing</td>\n",
              "      <td>F</td>\n",
              "      <td>NaN</td>\n",
              "      <td>No injury, knocke off board</td>\n",
              "      <td>N</td>\n",
              "      <td>15h45</td>\n",
              "      <td>7 gill shark</td>\n",
              "    </tr>\n",
              "    <tr>\n",
              "      <th>2</th>\n",
              "      <td>2017-06-10</td>\n",
              "      <td>Unprovoked</td>\n",
              "      <td>USA</td>\n",
              "      <td>Florida</td>\n",
              "      <td>Ponce Inlet, Volusia County</td>\n",
              "      <td>Surfing</td>\n",
              "      <td>M</td>\n",
              "      <td>19</td>\n",
              "      <td>Laceration to left foot</td>\n",
              "      <td>N</td>\n",
              "      <td>10h00</td>\n",
              "      <td>NaN</td>\n",
              "    </tr>\n",
              "    <tr>\n",
              "      <th>3</th>\n",
              "      <td>Reported 07-Jun-2017</td>\n",
              "      <td>Unprovoked</td>\n",
              "      <td>UNITED KINGDOM</td>\n",
              "      <td>South Devon</td>\n",
              "      <td>Bantham Beach</td>\n",
              "      <td>Surfing</td>\n",
              "      <td>M</td>\n",
              "      <td>30</td>\n",
              "      <td>Bruise to leg, cuts to hand sustained when he ...</td>\n",
              "      <td>N</td>\n",
              "      <td>NaN</td>\n",
              "      <td>3m shark, probably a smooth hound</td>\n",
              "    </tr>\n",
              "    <tr>\n",
              "      <th>4</th>\n",
              "      <td>2017-06-04</td>\n",
              "      <td>Unprovoked</td>\n",
              "      <td>USA</td>\n",
              "      <td>Florida</td>\n",
              "      <td>Middle Sambo Reef off Boca Chica, Monroe County</td>\n",
              "      <td>Spearfishing</td>\n",
              "      <td>M</td>\n",
              "      <td>NaN</td>\n",
              "      <td>Laceration to shin</td>\n",
              "      <td>N</td>\n",
              "      <td>NaN</td>\n",
              "      <td>8' shark</td>\n",
              "    </tr>\n",
              "  </tbody>\n",
              "</table>\n",
              "</div>\n",
              "      <button class=\"colab-df-convert\" onclick=\"convertToInteractive('df-0c216b7d-b455-4640-acb8-cfd8f3d71f47')\"\n",
              "              title=\"Convert this dataframe to an interactive table.\"\n",
              "              style=\"display:none;\">\n",
              "        \n",
              "  <svg xmlns=\"http://www.w3.org/2000/svg\" height=\"24px\"viewBox=\"0 0 24 24\"\n",
              "       width=\"24px\">\n",
              "    <path d=\"M0 0h24v24H0V0z\" fill=\"none\"/>\n",
              "    <path d=\"M18.56 5.44l.94 2.06.94-2.06 2.06-.94-2.06-.94-.94-2.06-.94 2.06-2.06.94zm-11 1L8.5 8.5l.94-2.06 2.06-.94-2.06-.94L8.5 2.5l-.94 2.06-2.06.94zm10 10l.94 2.06.94-2.06 2.06-.94-2.06-.94-.94-2.06-.94 2.06-2.06.94z\"/><path d=\"M17.41 7.96l-1.37-1.37c-.4-.4-.92-.59-1.43-.59-.52 0-1.04.2-1.43.59L10.3 9.45l-7.72 7.72c-.78.78-.78 2.05 0 2.83L4 21.41c.39.39.9.59 1.41.59.51 0 1.02-.2 1.41-.59l7.78-7.78 2.81-2.81c.8-.78.8-2.07 0-2.86zM5.41 20L4 18.59l7.72-7.72 1.47 1.35L5.41 20z\"/>\n",
              "  </svg>\n",
              "      </button>\n",
              "      \n",
              "  <style>\n",
              "    .colab-df-container {\n",
              "      display:flex;\n",
              "      flex-wrap:wrap;\n",
              "      gap: 12px;\n",
              "    }\n",
              "\n",
              "    .colab-df-convert {\n",
              "      background-color: #E8F0FE;\n",
              "      border: none;\n",
              "      border-radius: 50%;\n",
              "      cursor: pointer;\n",
              "      display: none;\n",
              "      fill: #1967D2;\n",
              "      height: 32px;\n",
              "      padding: 0 0 0 0;\n",
              "      width: 32px;\n",
              "    }\n",
              "\n",
              "    .colab-df-convert:hover {\n",
              "      background-color: #E2EBFA;\n",
              "      box-shadow: 0px 1px 2px rgba(60, 64, 67, 0.3), 0px 1px 3px 1px rgba(60, 64, 67, 0.15);\n",
              "      fill: #174EA6;\n",
              "    }\n",
              "\n",
              "    [theme=dark] .colab-df-convert {\n",
              "      background-color: #3B4455;\n",
              "      fill: #D2E3FC;\n",
              "    }\n",
              "\n",
              "    [theme=dark] .colab-df-convert:hover {\n",
              "      background-color: #434B5C;\n",
              "      box-shadow: 0px 1px 3px 1px rgba(0, 0, 0, 0.15);\n",
              "      filter: drop-shadow(0px 1px 2px rgba(0, 0, 0, 0.3));\n",
              "      fill: #FFFFFF;\n",
              "    }\n",
              "  </style>\n",
              "\n",
              "      <script>\n",
              "        const buttonEl =\n",
              "          document.querySelector('#df-0c216b7d-b455-4640-acb8-cfd8f3d71f47 button.colab-df-convert');\n",
              "        buttonEl.style.display =\n",
              "          google.colab.kernel.accessAllowed ? 'block' : 'none';\n",
              "\n",
              "        async function convertToInteractive(key) {\n",
              "          const element = document.querySelector('#df-0c216b7d-b455-4640-acb8-cfd8f3d71f47');\n",
              "          const dataTable =\n",
              "            await google.colab.kernel.invokeFunction('convertToInteractive',\n",
              "                                                     [key], {});\n",
              "          if (!dataTable) return;\n",
              "\n",
              "          const docLinkHtml = 'Like what you see? Visit the ' +\n",
              "            '<a target=\"_blank\" href=https://colab.research.google.com/notebooks/data_table.ipynb>data table notebook</a>'\n",
              "            + ' to learn more about interactive tables.';\n",
              "          element.innerHTML = '';\n",
              "          dataTable['output_type'] = 'display_data';\n",
              "          await google.colab.output.renderOutput(dataTable, element);\n",
              "          const docLink = document.createElement('div');\n",
              "          docLink.innerHTML = docLinkHtml;\n",
              "          element.appendChild(docLink);\n",
              "        }\n",
              "      </script>\n",
              "    </div>\n",
              "  </div>\n",
              "  "
            ]
          },
          "metadata": {},
          "execution_count": 13
        }
      ]
    },
    {
      "cell_type": "markdown",
      "source": [
        "#The outcome of this snake case is simply all lower case columns.\n",
        "\n",
        "#Now we can take a look at the null values:"
      ],
      "metadata": {
        "id": "8Vkm8S0g2D7D"
      }
    },
    {
      "cell_type": "code",
      "source": [
        "data.isnull().sum()/len(data)"
      ],
      "metadata": {
        "colab": {
          "base_uri": "https://localhost:8080/"
        },
        "id": "Ph_hhBjB4KIh",
        "outputId": "787fe870-74a2-4f00-de50-2bc2ecc467e9"
      },
      "execution_count": null,
      "outputs": [
        {
          "output_type": "execute_result",
          "data": {
            "text/plain": [
              "date           0.762083\n",
              "type           0.762239\n",
              "country        0.763879\n",
              "area           0.778168\n",
              "location       0.782033\n",
              "activity       0.782970\n",
              "sex            0.784610\n",
              "age            0.868275\n",
              "injury         0.763176\n",
              "fatal_(y/n)    0.763254\n",
              "time           0.888811\n",
              "species        0.878972\n",
              "dtype: float64"
            ]
          },
          "metadata": {},
          "execution_count": 13
        }
      ]
    },
    {
      "cell_type": "code",
      "source": [
        "#The red in this graph represent null values. This accounts for a LOT of the data!\n",
        "import matplotlib as mpl\n",
        "import seaborn as sns\n",
        "\n",
        "sns.heatmap(data.isnull(), yticklabels = False, cbar = False, cmap='RdYlGn_r')"
      ],
      "metadata": {
        "colab": {
          "base_uri": "https://localhost:8080/",
          "height": 323
        },
        "id": "k-mE2UQ86nEF",
        "outputId": "505d79c6-1f27-41a7-9cd6-cc2ae88b3010"
      },
      "execution_count": null,
      "outputs": [
        {
          "output_type": "execute_result",
          "data": {
            "text/plain": [
              "<matplotlib.axes._subplots.AxesSubplot at 0x7f5b541b8790>"
            ]
          },
          "metadata": {},
          "execution_count": 14
        },
        {
          "output_type": "display_data",
          "data": {
            "text/plain": [
              "<Figure size 432x288 with 1 Axes>"
            ],
            "image/png": "[encoded data removed]"
          },
          "metadata": {
            "needs_background": "light"
          }
        }
      ]
    },
    {
      "cell_type": "markdown",
      "source": [
        "We can see that a lot of the entries in the data are nothing but NA values. This is likely due to us dropping the columns earlier (meaning they had relevant data for those columns at least)"
      ],
      "metadata": {
        "id": "hYhbZT6uA5-X"
      }
    },
    {
      "cell_type": "markdown",
      "source": [
        "We can start cleaning this by removing the entries that only have null values"
      ],
      "metadata": {
        "id": "l6Kek_PiBKZl"
      }
    },
    {
      "cell_type": "code",
      "source": [
        "data.dropna(axis = 0, how = 'all', inplace = True)"
      ],
      "metadata": {
        "id": "QO3f6V5uBP3K"
      },
      "execution_count": null,
      "outputs": []
    },
    {
      "cell_type": "code",
      "source": [
        "data.isnull().sum()/len(data)"
      ],
      "metadata": {
        "colab": {
          "base_uri": "https://localhost:8080/"
        },
        "id": "uZqc85MUBVsG",
        "outputId": "a5e72c9b-45b9-410f-b48a-6096ff75608d"
      },
      "execution_count": null,
      "outputs": [
        {
          "output_type": "execute_result",
          "data": {
            "text/plain": [
              "date           0.000164\n",
              "type           0.000820\n",
              "country        0.007711\n",
              "area           0.067760\n",
              "location       0.084003\n",
              "activity       0.087941\n",
              "sex            0.094832\n",
              "age            0.446432\n",
              "injury         0.004758\n",
              "fatal_(y/n)    0.005086\n",
              "time           0.532732\n",
              "species        0.491386\n",
              "dtype: float64"
            ]
          },
          "metadata": {},
          "execution_count": 17
        }
      ]
    },
    {
      "cell_type": "code",
      "source": [
        "#After result of removing entires that had only null values\n",
        "#We can still see a lot of null valuse for the age, time, and species column\n",
        "sns.heatmap(data.isnull(), yticklabels = False, cbar = False, cmap='RdYlGn_r')"
      ],
      "metadata": {
        "colab": {
          "base_uri": "https://localhost:8080/",
          "height": 323
        },
        "id": "gN1-IBqNBYAu",
        "outputId": "8471a661-f5bb-4032-c380-a5c0145c9fca"
      },
      "execution_count": null,
      "outputs": [
        {
          "output_type": "execute_result",
          "data": {
            "text/plain": [
              "<matplotlib.axes._subplots.AxesSubplot at 0x7f5b5fc4a1d0>"
            ]
          },
          "metadata": {},
          "execution_count": 16
        },
        {
          "output_type": "display_data",
          "data": {
            "text/plain": [
              "<Figure size 432x288 with 1 Axes>"
            ],
            "image/png": "[encoded data removed]"
          },
          "metadata": {
            "needs_background": "light"
          }
        }
      ]
    },
    {
      "cell_type": "code",
      "source": [
        "#The mess of the fatal column\n",
        "data['fatal_(y/n)'].value_counts()"
      ],
      "metadata": {
        "colab": {
          "base_uri": "https://localhost:8080/"
        },
        "id": "MlkGOQibgFVO",
        "outputId": "38a67193-2eca-46b9-a922-f1564aa42097"
      },
      "execution_count": null,
      "outputs": [
        {
          "output_type": "execute_result",
          "data": {
            "text/plain": [
              "N          4391\n",
              "Y          1566\n",
              "UNKNOWN      94\n",
              " N            8\n",
              "2017          1\n",
              "F             1\n",
              "N             1\n",
              "#VALUE!       1\n",
              "n             1\n",
              "Name: fatal_(y/n), dtype: int64"
            ]
          },
          "metadata": {},
          "execution_count": 17
        }
      ]
    },
    {
      "cell_type": "code",
      "source": [
        "data.drop(data[data['fatal_(y/n)']=='2017'].index,inplace=True)"
      ],
      "metadata": {
        "id": "dpLrxSh9gVrW"
      },
      "execution_count": null,
      "outputs": []
    },
    {
      "cell_type": "code",
      "source": [
        "data.drop(data[data['fatal_(y/n)']=='UNKNOWN'].index,inplace=True)"
      ],
      "metadata": {
        "id": "NlIBZ8jhgq8v"
      },
      "execution_count": null,
      "outputs": []
    },
    {
      "cell_type": "code",
      "source": [
        "data.drop(data[data['fatal_(y/n)']=='#VALUE!'].index,inplace=True)"
      ],
      "metadata": {
        "id": "m1_9Q6aVg7m1"
      },
      "execution_count": null,
      "outputs": []
    },
    {
      "cell_type": "code",
      "source": [
        "data['fatal_(y/n)'].mask(data['fatal_(y/n)'] ==' N','N', inplace=True)"
      ],
      "metadata": {
        "id": "CwxidGn4givO"
      },
      "execution_count": null,
      "outputs": []
    },
    {
      "cell_type": "code",
      "source": [
        "data['fatal_(y/n)'].mask(data['fatal_(y/n)'] =='F','Y', inplace=True)\n",
        "data['fatal_(y/n)'].mask(data['fatal_(y/n)'] =='n','N', inplace=True)"
      ],
      "metadata": {
        "id": "OuDMr9P7g067"
      },
      "execution_count": null,
      "outputs": []
    },
    {
      "cell_type": "code",
      "source": [
        "data['fatal_(y/n)'].mask(data['fatal_(y/n)'] =='N ','N', inplace=True)"
      ],
      "metadata": {
        "id": "G3NMnAWnhFGJ"
      },
      "execution_count": null,
      "outputs": []
    },
    {
      "cell_type": "code",
      "source": [
        "#Cleaned fatal column\n",
        "data['fatal_(y/n)'].value_counts()"
      ],
      "metadata": {
        "colab": {
          "base_uri": "https://localhost:8080/"
        },
        "id": "ELO9uPYchJrG",
        "outputId": "1a7053f2-92a5-4425-d1c0-6b4983be89ba"
      },
      "execution_count": null,
      "outputs": [
        {
          "output_type": "execute_result",
          "data": {
            "text/plain": [
              "N    4401\n",
              "Y    1567\n",
              "Name: fatal_(y/n), dtype: int64"
            ]
          },
          "metadata": {},
          "execution_count": 24
        }
      ]
    },
    {
      "cell_type": "code",
      "source": [
        "#Looking at the sex column. More mess\n",
        "data['sex'].value_counts()"
      ],
      "metadata": {
        "colab": {
          "base_uri": "https://localhost:8080/"
        },
        "id": "loMdUtjhhTn6",
        "outputId": "c1af3003-cc1a-4c2a-d1a4-8f0746e80969"
      },
      "execution_count": null,
      "outputs": [
        {
          "output_type": "execute_result",
          "data": {
            "text/plain": [
              "M      4856\n",
              "F       601\n",
              "M         2\n",
              "lli       1\n",
              "N         1\n",
              ".         1\n",
              "Name: sex, dtype: int64"
            ]
          },
          "metadata": {},
          "execution_count": 25
        }
      ]
    },
    {
      "cell_type": "code",
      "source": [
        "data['sex'].mask(data['sex'] =='M ','M', inplace=True)\n",
        "data.drop(data[data['sex']=='lli'].index,inplace=True)\n",
        "data.drop(data[data['sex']=='N'].index,inplace=True)\n",
        "data.drop(data[data['sex']=='.'].index,inplace=True)"
      ],
      "metadata": {
        "id": "9qJa3RZAiz79"
      },
      "execution_count": null,
      "outputs": []
    },
    {
      "cell_type": "code",
      "source": [
        "#Clean sex column\n",
        "#Interesting statistic here!\n",
        "data['sex'].value_counts()"
      ],
      "metadata": {
        "id": "oFpcZhkhjO1W",
        "outputId": "58203d32-f07b-4137-8eb0-8b3a3dc73292",
        "colab": {
          "base_uri": "https://localhost:8080/"
        }
      },
      "execution_count": null,
      "outputs": [
        {
          "output_type": "execute_result",
          "data": {
            "text/plain": [
              "M    4858\n",
              "F     601\n",
              "Name: sex, dtype: int64"
            ]
          },
          "metadata": {},
          "execution_count": 28
        }
      ]
    },
    {
      "cell_type": "markdown",
      "source": [
        "Our options at this point are to remove the columns in question and then to simply delete the entries that still have null values. This would be a point of divergance, as it would take some deliberation which way to proceed. For the age, time, and species column, we can remove them completely or tackle them in a different way. For age, we can simply input a random value for each, or use the mean value for the entire column. We can do the same with time, but only after transforming it (categories may work well here). For the species column, it would be hard to dictate and input randomness into it given that it's already a categorical variable. For that sake we will drop the column completely."
      ],
      "metadata": {
        "id": "_w8SxnmaBxkM"
      }
    },
    {
      "cell_type": "code",
      "source": [
        "#This would be a good time to make a copy of the data so far\n",
        "#In other, real-world situations, it is a good idea to start out the notebook by making a copy of the original data\n",
        "\n",
        "data1 = data.copy()"
      ],
      "metadata": {
        "id": "lPrPFOhxCtMJ"
      },
      "execution_count": null,
      "outputs": []
    },
    {
      "cell_type": "markdown",
      "source": [
        "#At this point, we can diverge the notebook into separate paths depending on how we handle the null values."
      ],
      "metadata": {
        "id": "-xLpt1racD54"
      }
    },
    {
      "cell_type": "markdown",
      "source": [
        "Path 1: Simply drop the age, time, and species columns"
      ],
      "metadata": {
        "id": "xG0sX78hcOf7"
      }
    },
    {
      "cell_type": "code",
      "source": [
        "data1 = data1.drop(['age', 'time', 'species'], axis = 1)"
      ],
      "metadata": {
        "id": "6QJdYKEaf3pU"
      },
      "execution_count": null,
      "outputs": []
    },
    {
      "cell_type": "code",
      "source": [
        "#We still have some nulls here...lets drop them\n",
        "data1.isnull().sum()"
      ],
      "metadata": {
        "colab": {
          "base_uri": "https://localhost:8080/"
        },
        "id": "PWYjmMlGytiw",
        "outputId": "9a05de8a-2621-4d1c-89bc-c9e830c3ddaf"
      },
      "execution_count": null,
      "outputs": [
        {
          "output_type": "execute_result",
          "data": {
            "text/plain": [
              "date             1\n",
              "type             5\n",
              "country         45\n",
              "area           403\n",
              "location       496\n",
              "activity       489\n",
              "sex            537\n",
              "injury           2\n",
              "fatal_(y/n)     31\n",
              "dtype: int64"
            ]
          },
          "metadata": {},
          "execution_count": 40
        }
      ]
    },
    {
      "cell_type": "code",
      "source": [
        "data1.dropna(axis = 0, how = 'any', inplace = True)"
      ],
      "metadata": {
        "id": "6bYGQQ4rzBoC"
      },
      "execution_count": null,
      "outputs": []
    },
    {
      "cell_type": "code",
      "source": [
        "data1.isnull().sum()"
      ],
      "metadata": {
        "colab": {
          "base_uri": "https://localhost:8080/"
        },
        "id": "OrWD7p8TzFxo",
        "outputId": "8ec03267-788f-427f-cd4f-516ba269754f"
      },
      "execution_count": null,
      "outputs": [
        {
          "output_type": "execute_result",
          "data": {
            "text/plain": [
              "date           0\n",
              "type           0\n",
              "country        0\n",
              "area           0\n",
              "location       0\n",
              "activity       0\n",
              "sex            0\n",
              "injury         0\n",
              "fatal_(y/n)    0\n",
              "dtype: int64"
            ]
          },
          "metadata": {},
          "execution_count": 42
        }
      ]
    },
    {
      "cell_type": "code",
      "source": [
        "data1.info()"
      ],
      "metadata": {
        "colab": {
          "base_uri": "https://localhost:8080/"
        },
        "id": "K1j0jTX2zKl9",
        "outputId": "38915538-534e-4bac-cc43-c7f3b1294a78"
      },
      "execution_count": null,
      "outputs": [
        {
          "output_type": "stream",
          "name": "stdout",
          "text": [
            "<class 'pandas.core.frame.DataFrame'>\n",
            "Int64Index: 4575 entries, 0 to 6093\n",
            "Data columns (total 9 columns):\n",
            " #   Column       Non-Null Count  Dtype \n",
            "---  ------       --------------  ----- \n",
            " 0   date         4575 non-null   object\n",
            " 1   type         4575 non-null   object\n",
            " 2   country      4575 non-null   object\n",
            " 3   area         4575 non-null   object\n",
            " 4   location     4575 non-null   object\n",
            " 5   activity     4575 non-null   object\n",
            " 6   sex          4575 non-null   object\n",
            " 7   injury       4575 non-null   object\n",
            " 8   fatal_(y/n)  4575 non-null   object\n",
            "dtypes: object(9)\n",
            "memory usage: 357.4+ KB\n"
          ]
        }
      ]
    },
    {
      "cell_type": "markdown",
      "source": [
        "So now we have a full dataset, but are there any more entries we should be worried about?\n",
        "\n",
        "(Yes)"
      ],
      "metadata": {
        "id": "7tCkPaiOzSm4"
      }
    },
    {
      "cell_type": "code",
      "source": [
        "#Here is a great area to use the binning method\n",
        "data1.date.value_counts()"
      ],
      "metadata": {
        "colab": {
          "base_uri": "https://localhost:8080/"
        },
        "id": "KD4MZq2ezX2r",
        "outputId": "08b1fa7f-f5db-45ec-d321-9741f732f0b5"
      },
      "execution_count": null,
      "outputs": [
        {
          "output_type": "execute_result",
          "data": {
            "text/plain": [
              "1905-05-10              6\n",
              "1905-05-03              6\n",
              "No date                 5\n",
              "1956-08-01              5\n",
              "1970s                   5\n",
              "                       ..\n",
              "1998-09-27              1\n",
              "1998-09-22              1\n",
              "Reported 16-Sep-1998    1\n",
              "1998-09-14              1\n",
              "1845-1853               1\n",
              "Name: date, Length: 4013, dtype: int64"
            ]
          },
          "metadata": {},
          "execution_count": 44
        }
      ]
    },
    {
      "cell_type": "code",
      "source": [
        "#we can probably combine \"Boat\" and \"Boating here\"\n",
        "data1.type.value_counts()"
      ],
      "metadata": {
        "colab": {
          "base_uri": "https://localhost:8080/"
        },
        "id": "umruHNhKzok6",
        "outputId": "05eb6628-9ddd-49be-9a95-8c5ad0a43d5c"
      },
      "execution_count": null,
      "outputs": [
        {
          "output_type": "execute_result",
          "data": {
            "text/plain": [
              "Unprovoked      3663\n",
              "Provoked         426\n",
              "Invalid          318\n",
              "Sea Disaster      83\n",
              "Boat              54\n",
              "Boating           31\n",
              "Name: type, dtype: int64"
            ]
          },
          "metadata": {},
          "execution_count": 45
        }
      ]
    },
    {
      "cell_type": "code",
      "source": [
        "data1.loc[data1['type'] == 'Boat'] = 'Boating'"
      ],
      "metadata": {
        "id": "voiS3Hkc1mR6"
      },
      "execution_count": null,
      "outputs": []
    },
    {
      "cell_type": "code",
      "source": [
        "data1.type.value_counts()"
      ],
      "metadata": {
        "colab": {
          "base_uri": "https://localhost:8080/"
        },
        "id": "6b34mk4i1nnQ",
        "outputId": "11528144-ca00-4744-bf66-5023973616ab"
      },
      "execution_count": null,
      "outputs": [
        {
          "output_type": "execute_result",
          "data": {
            "text/plain": [
              "Unprovoked      3663\n",
              "Provoked         426\n",
              "Invalid          318\n",
              "Boating           85\n",
              "Sea Disaster      83\n",
              "Name: type, dtype: int64"
            ]
          },
          "metadata": {},
          "execution_count": 56
        }
      ]
    },
    {
      "cell_type": "code",
      "source": [
        "#probably a good candidate for snake case, if we wanted to keep the column\n",
        "#However, for the sake of accuracy we are going with the area column\n",
        "data1.country.value_counts()"
      ],
      "metadata": {
        "colab": {
          "base_uri": "https://localhost:8080/"
        },
        "id": "9-Rkyko2zw-g",
        "outputId": "cff5fedc-f8f3-4b74-9e76-d143f05c44a0"
      },
      "execution_count": null,
      "outputs": [
        {
          "output_type": "execute_result",
          "data": {
            "text/plain": [
              "USA                   1880\n",
              "AUSTRALIA             1018\n",
              "SOUTH AFRICA           467\n",
              "NEW ZEALAND             98\n",
              "PAPUA NEW GUINEA        88\n",
              "                      ... \n",
              "SUDAN?                   1\n",
              "ARGENTINA                1\n",
              "ST. MAARTIN              1\n",
              "Sierra Leone             1\n",
              "CEYLON (SRI LANKA)       1\n",
              "Name: country, Length: 136, dtype: int64"
            ]
          },
          "metadata": {},
          "execution_count": 57
        }
      ]
    },
    {
      "cell_type": "code",
      "source": [
        "data1.drop('country', axis =1, inplace = True)"
      ],
      "metadata": {
        "id": "hyyzWBIv2wDz"
      },
      "execution_count": null,
      "outputs": []
    },
    {
      "cell_type": "code",
      "source": [
        "data1.area.value_counts()"
      ],
      "metadata": {
        "colab": {
          "base_uri": "https://localhost:8080/"
        },
        "id": "RC6pk7nsz5_R",
        "outputId": "b23ccd43-7ca3-47dd-e830-06fce35b9604"
      },
      "execution_count": null,
      "outputs": [
        {
          "output_type": "execute_result",
          "data": {
            "text/plain": [
              "Florida                      909\n",
              "New South Wales              388\n",
              "Hawaii                       254\n",
              "California                   253\n",
              "Queensland                   250\n",
              "                            ... \n",
              "Los Vilos                      1\n",
              "Lamu Archipelago               1\n",
              "St. Mary's Parish              1\n",
              "Coquimbo                       1\n",
              "Ba Ria-Vung Tau  Province      1\n",
              "Name: area, Length: 564, dtype: int64"
            ]
          },
          "metadata": {},
          "execution_count": 47
        }
      ]
    },
    {
      "cell_type": "code",
      "source": [
        "#Rather than working through this messy column lets simply use the area column\n",
        "data1.location.value_counts()"
      ],
      "metadata": {
        "colab": {
          "base_uri": "https://localhost:8080/"
        },
        "id": "kvQfoqIRz_bk",
        "outputId": "c26cab25-eee2-4239-9a37-812b1f45d00a"
      },
      "execution_count": null,
      "outputs": [
        {
          "output_type": "execute_result",
          "data": {
            "text/plain": [
              "New Smyrna Beach, Volusia County                                  154\n",
              "Boating                                                            54\n",
              "Daytona Beach, Volusia County                                      28\n",
              "Ponce Inlet, Volusia County                                        17\n",
              "Melbourne Beach, Brevard County                                    17\n",
              "                                                                 ... \n",
              "11 miles off Dog Island in the Gulf of Mexico, Franklin County      1\n",
              "Atlantiic Beach, Duval County                                       1\n",
              "Atlantic Dunes Park, Delray Beach, Palm Beach County                1\n",
              "Hardwicke Bay, Yorke Peninsula                                      1\n",
              "Below the English fort, Trincomalee                                 1\n",
              "Name: location, Length: 3260, dtype: int64"
            ]
          },
          "metadata": {},
          "execution_count": 59
        }
      ]
    },
    {
      "cell_type": "code",
      "source": [
        "data1.drop('location', axis =1, inplace = True)"
      ],
      "metadata": {
        "id": "mDvkHFTu3AqX"
      },
      "execution_count": null,
      "outputs": []
    },
    {
      "cell_type": "code",
      "source": [
        "#A very messy column.\n",
        "data1.activity.value_counts()"
      ],
      "metadata": {
        "colab": {
          "base_uri": "https://localhost:8080/"
        },
        "id": "YA316LiY0FDa",
        "outputId": "3dbbe01b-fabd-4497-f130-f53bb43a6fef"
      },
      "execution_count": null,
      "outputs": [
        {
          "output_type": "execute_result",
          "data": {
            "text/plain": [
              "Surfing                                                                                                  885\n",
              "Swimming                                                                                                 736\n",
              "Spearfishing                                                                                             276\n",
              "Fishing                                                                                                  263\n",
              "Wading                                                                                                   135\n",
              "                                                                                                        ... \n",
              "Swimming underwater from crayfish cage to a fishing bait                                                   1\n",
              "3.3 m fishing boat sank. Treveluwe & Peter Hodgson (wearing lifejackets) were drifting in the current      1\n",
              "Free diving for abalone (submerged)                                                                        1\n",
              "Adrift after the sinking of the motor yacht Princess Dianne                                                1\n",
              "4 men were bathing                                                                                         1\n",
              "Name: activity, Length: 1127, dtype: int64"
            ]
          },
          "metadata": {},
          "execution_count": 61
        }
      ]
    },
    {
      "cell_type": "code",
      "source": [
        "#Good column for either binning or dropping altogether. \n",
        "data1.injury.value_counts()"
      ],
      "metadata": {
        "colab": {
          "base_uri": "https://localhost:8080/"
        },
        "id": "Yup14Vu70R3N",
        "outputId": "e18baaa8-1dbf-4a9b-830a-e21cd2a7e162"
      },
      "execution_count": null,
      "outputs": [
        {
          "output_type": "execute_result",
          "data": {
            "text/plain": [
              "FATAL                                                                   502\n",
              "Foot bitten                                                              75\n",
              "No injury                                                                58\n",
              "Leg bitten                                                               58\n",
              "Left foot bitten                                                         47\n",
              "                                                                       ... \n",
              "Fingers & hand lacerated                                                  1\n",
              "Lacerations below the knee                                                1\n",
              "Bones recovered by fishermen in 300-kg [662-lb] white sharks gut         1\n",
              "No injury, shark ramme d & bit kayak                                      1\n",
              "FATAL. \"Shark bit him in half, carrying away the lower extremities\"       1\n",
              "Name: injury, Length: 2831, dtype: int64"
            ]
          },
          "metadata": {},
          "execution_count": 50
        }
      ]
    },
    {
      "cell_type": "code",
      "source": [
        "data1.drop('injury', axis =1, inplace = True)"
      ],
      "metadata": {
        "id": "G4xRYqe73IuF"
      },
      "execution_count": null,
      "outputs": []
    },
    {
      "cell_type": "code",
      "source": [
        "data1['fatal_(y/n)'].value_counts()"
      ],
      "metadata": {
        "colab": {
          "base_uri": "https://localhost:8080/"
        },
        "id": "spcMG7rn0b6b",
        "outputId": "62ec7100-cc73-4f53-e1c1-ea26f52da41d"
      },
      "execution_count": null,
      "outputs": [
        {
          "output_type": "execute_result",
          "data": {
            "text/plain": [
              "N    3501\n",
              "Y    1074\n",
              "Name: fatal_(y/n), dtype: int64"
            ]
          },
          "metadata": {},
          "execution_count": 52
        }
      ]
    },
    {
      "cell_type": "code",
      "source": [
        "data1.sex.value_counts()"
      ],
      "metadata": {
        "colab": {
          "base_uri": "https://localhost:8080/"
        },
        "id": "6s2_YBoS0pHK",
        "outputId": "8c62178f-61fe-479d-d361-80de028340a9"
      },
      "execution_count": null,
      "outputs": [
        {
          "output_type": "execute_result",
          "data": {
            "text/plain": [
              "M    4054\n",
              "F     521\n",
              "Name: sex, dtype: int64"
            ]
          },
          "metadata": {},
          "execution_count": 53
        }
      ]
    },
    {
      "cell_type": "code",
      "source": [
        "#Lets look at our current df\n",
        "data1.head()"
      ],
      "metadata": {
        "colab": {
          "base_uri": "https://localhost:8080/",
          "height": 206
        },
        "id": "7aEFynf23Lmh",
        "outputId": "82d93fee-4f30-4792-eaaa-a59a0fe1fd14"
      },
      "execution_count": null,
      "outputs": [
        {
          "output_type": "execute_result",
          "data": {
            "text/plain": [
              "                   date        type               area       activity sex  \\\n",
              "0            2017-06-11  Unprovoked  Western Australia  Body boarding   M   \n",
              "1            2017-06-10  Unprovoked           Victoria        Surfing   F   \n",
              "2            2017-06-10  Unprovoked            Florida        Surfing   M   \n",
              "3  Reported 07-Jun-2017  Unprovoked        South Devon       Surfing    M   \n",
              "4            2017-06-04  Unprovoked            Florida   Spearfishing   M   \n",
              "\n",
              "  fatal_(y/n)  \n",
              "0           N  \n",
              "1           N  \n",
              "2           N  \n",
              "3           N  \n",
              "4           N  "
            ],
            "text/html": [
              "\n",
              "  <div id=\"df-4b4043a1-4aff-4414-b6e7-c2bd28caa6fc\">\n",
              "    <div class=\"colab-df-container\">\n",
              "      <div>\n",
              "<style scoped>\n",
              "    .dataframe tbody tr th:only-of-type {\n",
              "        vertical-align: middle;\n",
              "    }\n",
              "\n",
              "    .dataframe tbody tr th {\n",
              "        vertical-align: top;\n",
              "    }\n",
              "\n",
              "    .dataframe thead th {\n",
              "        text-align: right;\n",
              "    }\n",
              "</style>\n",
              "<table border=\"1\" class=\"dataframe\">\n",
              "  <thead>\n",
              "    <tr style=\"text-align: right;\">\n",
              "      <th></th>\n",
              "      <th>date</th>\n",
              "      <th>type</th>\n",
              "      <th>area</th>\n",
              "      <th>activity</th>\n",
              "      <th>sex</th>\n",
              "      <th>fatal_(y/n)</th>\n",
              "    </tr>\n",
              "  </thead>\n",
              "  <tbody>\n",
              "    <tr>\n",
              "      <th>0</th>\n",
              "      <td>2017-06-11</td>\n",
              "      <td>Unprovoked</td>\n",
              "      <td>Western Australia</td>\n",
              "      <td>Body boarding</td>\n",
              "      <td>M</td>\n",
              "      <td>N</td>\n",
              "    </tr>\n",
              "    <tr>\n",
              "      <th>1</th>\n",
              "      <td>2017-06-10</td>\n",
              "      <td>Unprovoked</td>\n",
              "      <td>Victoria</td>\n",
              "      <td>Surfing</td>\n",
              "      <td>F</td>\n",
              "      <td>N</td>\n",
              "    </tr>\n",
              "    <tr>\n",
              "      <th>2</th>\n",
              "      <td>2017-06-10</td>\n",
              "      <td>Unprovoked</td>\n",
              "      <td>Florida</td>\n",
              "      <td>Surfing</td>\n",
              "      <td>M</td>\n",
              "      <td>N</td>\n",
              "    </tr>\n",
              "    <tr>\n",
              "      <th>3</th>\n",
              "      <td>Reported 07-Jun-2017</td>\n",
              "      <td>Unprovoked</td>\n",
              "      <td>South Devon</td>\n",
              "      <td>Surfing</td>\n",
              "      <td>M</td>\n",
              "      <td>N</td>\n",
              "    </tr>\n",
              "    <tr>\n",
              "      <th>4</th>\n",
              "      <td>2017-06-04</td>\n",
              "      <td>Unprovoked</td>\n",
              "      <td>Florida</td>\n",
              "      <td>Spearfishing</td>\n",
              "      <td>M</td>\n",
              "      <td>N</td>\n",
              "    </tr>\n",
              "  </tbody>\n",
              "</table>\n",
              "</div>\n",
              "      <button class=\"colab-df-convert\" onclick=\"convertToInteractive('df-4b4043a1-4aff-4414-b6e7-c2bd28caa6fc')\"\n",
              "              title=\"Convert this dataframe to an interactive table.\"\n",
              "              style=\"display:none;\">\n",
              "        \n",
              "  <svg xmlns=\"http://www.w3.org/2000/svg\" height=\"24px\"viewBox=\"0 0 24 24\"\n",
              "       width=\"24px\">\n",
              "    <path d=\"M0 0h24v24H0V0z\" fill=\"none\"/>\n",
              "    <path d=\"M18.56 5.44l.94 2.06.94-2.06 2.06-.94-2.06-.94-.94-2.06-.94 2.06-2.06.94zm-11 1L8.5 8.5l.94-2.06 2.06-.94-2.06-.94L8.5 2.5l-.94 2.06-2.06.94zm10 10l.94 2.06.94-2.06 2.06-.94-2.06-.94-.94-2.06-.94 2.06-2.06.94z\"/><path d=\"M17.41 7.96l-1.37-1.37c-.4-.4-.92-.59-1.43-.59-.52 0-1.04.2-1.43.59L10.3 9.45l-7.72 7.72c-.78.78-.78 2.05 0 2.83L4 21.41c.39.39.9.59 1.41.59.51 0 1.02-.2 1.41-.59l7.78-7.78 2.81-2.81c.8-.78.8-2.07 0-2.86zM5.41 20L4 18.59l7.72-7.72 1.47 1.35L5.41 20z\"/>\n",
              "  </svg>\n",
              "      </button>\n",
              "      \n",
              "  <style>\n",
              "    .colab-df-container {\n",
              "      display:flex;\n",
              "      flex-wrap:wrap;\n",
              "      gap: 12px;\n",
              "    }\n",
              "\n",
              "    .colab-df-convert {\n",
              "      background-color: #E8F0FE;\n",
              "      border: none;\n",
              "      border-radius: 50%;\n",
              "      cursor: pointer;\n",
              "      display: none;\n",
              "      fill: #1967D2;\n",
              "      height: 32px;\n",
              "      padding: 0 0 0 0;\n",
              "      width: 32px;\n",
              "    }\n",
              "\n",
              "    .colab-df-convert:hover {\n",
              "      background-color: #E2EBFA;\n",
              "      box-shadow: 0px 1px 2px rgba(60, 64, 67, 0.3), 0px 1px 3px 1px rgba(60, 64, 67, 0.15);\n",
              "      fill: #174EA6;\n",
              "    }\n",
              "\n",
              "    [theme=dark] .colab-df-convert {\n",
              "      background-color: #3B4455;\n",
              "      fill: #D2E3FC;\n",
              "    }\n",
              "\n",
              "    [theme=dark] .colab-df-convert:hover {\n",
              "      background-color: #434B5C;\n",
              "      box-shadow: 0px 1px 3px 1px rgba(0, 0, 0, 0.15);\n",
              "      filter: drop-shadow(0px 1px 2px rgba(0, 0, 0, 0.3));\n",
              "      fill: #FFFFFF;\n",
              "    }\n",
              "  </style>\n",
              "\n",
              "      <script>\n",
              "        const buttonEl =\n",
              "          document.querySelector('#df-4b4043a1-4aff-4414-b6e7-c2bd28caa6fc button.colab-df-convert');\n",
              "        buttonEl.style.display =\n",
              "          google.colab.kernel.accessAllowed ? 'block' : 'none';\n",
              "\n",
              "        async function convertToInteractive(key) {\n",
              "          const element = document.querySelector('#df-4b4043a1-4aff-4414-b6e7-c2bd28caa6fc');\n",
              "          const dataTable =\n",
              "            await google.colab.kernel.invokeFunction('convertToInteractive',\n",
              "                                                     [key], {});\n",
              "          if (!dataTable) return;\n",
              "\n",
              "          const docLinkHtml = 'Like what you see? Visit the ' +\n",
              "            '<a target=\"_blank\" href=https://colab.research.google.com/notebooks/data_table.ipynb>data table notebook</a>'\n",
              "            + ' to learn more about interactive tables.';\n",
              "          element.innerHTML = '';\n",
              "          dataTable['output_type'] = 'display_data';\n",
              "          await google.colab.output.renderOutput(dataTable, element);\n",
              "          const docLink = document.createElement('div');\n",
              "          docLink.innerHTML = docLinkHtml;\n",
              "          element.appendChild(docLink);\n",
              "        }\n",
              "      </script>\n",
              "    </div>\n",
              "  </div>\n",
              "  "
            ]
          },
          "metadata": {},
          "execution_count": 63
        }
      ]
    },
    {
      "cell_type": "markdown",
      "source": [
        "#At this poing we need to clean the date column and the activity column. Both require some in-depth coding."
      ],
      "metadata": {
        "id": "pGrnjbXh3dOC"
      }
    },
    {
      "cell_type": "code",
      "source": [
        "#Lets start with the date column. It is easiest in this case to simply transform it into only showing the year\n",
        "data1['year'] = data1['date'].apply(lambda x:x.split('-')[0])"
      ],
      "metadata": {
        "id": "T9d5J2R73smq"
      },
      "execution_count": null,
      "outputs": []
    },
    {
      "cell_type": "code",
      "source": [
        "data1.year.value_counts()"
      ],
      "metadata": {
        "colab": {
          "base_uri": "https://localhost:8080/"
        },
        "id": "ETvlPpPI37GC",
        "outputId": "03c783d4-654b-4090-dc48-24b3620f8399"
      },
      "execution_count": null,
      "outputs": [
        {
          "output_type": "execute_result",
          "data": {
            "text/plain": [
              "1905        136\n",
              "2016        119\n",
              "2015        119\n",
              "2011        108\n",
              "2012        105\n",
              "           ... \n",
              "1920s         1\n",
              " 24           1\n",
              "  03          1\n",
              "Ca. 1911      1\n",
              "1845          1\n",
              "Name: year, Length: 329, dtype: int64"
            ]
          },
          "metadata": {},
          "execution_count": 66
        }
      ]
    },
    {
      "cell_type": "code",
      "source": [
        "#Credit to Philip Kovac on Kaggle\n",
        "wrong_year_val = []\n",
        "wrong_year_ind = []\n",
        "for i in range(len(data1['year'])):\n",
        "    if len(data1['year'].iloc[i]) > 4:\n",
        "        wrong_year_val = np.append(wrong_year_val, data1['date'].iloc[i])\n",
        "        wrong_year_ind = np.append(wrong_year_ind, data1['date'].index[i])\n",
        "    elif len(data1['year'].iloc[i]) < 4:\n",
        "        wrong_year_val = np.append(wrong_year_val, data1['date'].iloc[i])\n",
        "        wrong_year_ind = np.append(wrong_year_ind, data1['date'].index[i])\n",
        "\n",
        "wrong_year_ind = list(map(int, wrong_year_ind))\n",
        "\n",
        "drop_wrongdf = pd.DataFrame(wrong_year_val)\n",
        "split_year = drop_wrongdf[0].apply(lambda x:x.split('-'))\n",
        "\n",
        "for i in range(len(split_year)):\n",
        "    data1['year'].at[wrong_year_ind[i]] = split_year[i][-1]"
      ],
      "metadata": {
        "id": "Q8sAOnBw4Yno"
      },
      "execution_count": null,
      "outputs": []
    },
    {
      "cell_type": "code",
      "source": [
        "data1['year'] = data1['year'].apply(lambda x:x.split()[-1])\n",
        "data1.drop(data1[data1['year'].map(len)!=4].index, inplace = True)\n",
        "data1.drop(data1[data1['year']> '2021'].index, inplace = True)\n",
        "data1['Year'] = list(map(int, data1['year']))\n",
        "len(data1)"
      ],
      "metadata": {
        "colab": {
          "base_uri": "https://localhost:8080/"
        },
        "id": "V-w5u1p04vxC",
        "outputId": "42a6cf72-3235-4f7d-c184-e4e3b77b1d25"
      },
      "execution_count": null,
      "outputs": [
        {
          "output_type": "execute_result",
          "data": {
            "text/plain": [
              "4364"
            ]
          },
          "metadata": {},
          "execution_count": 73
        }
      ]
    }
  ]
}